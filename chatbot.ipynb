{
  "cells": [
    {
      "cell_type": "code",
      "execution_count": 1,
      "metadata": {
        "colab": {
          "base_uri": "https://localhost:8080/"
        },
        "id": "GWCjgPAhYANN",
        "outputId": "504b9adf-79cc-4fb1-8bd6-9e5a8d362956"
      },
      "outputs": [
        {
          "name": "stderr",
          "output_type": "stream",
          "text": [
            "/usr/local/lib/python3.9/dist-packages/torch/cuda/__init__.py:497: UserWarning: Can't initialize NVML\n",
            "  warnings.warn(\"Can't initialize NVML\")\n"
          ]
        }
      ],
      "source": [
        "import spacy\n",
        "import random"
      ]
    },
    {
      "cell_type": "code",
      "execution_count": 3,
      "metadata": {
        "id": "LQ1lwUZsYBu_"
      },
      "outputs": [],
      "source": [
        "# Load the spaCy model for English language\n",
        "nlp = spacy.load('en_core_web_sm')"
      ]
    },
    {
      "cell_type": "code",
      "execution_count": null,
      "metadata": {
        "colab": {
          "base_uri": "https://localhost:8080/"
        },
        "id": "mdPDDro9YPHV",
        "outputId": "9fa788a4-628a-4743-91c2-a6539ba49c0e"
      },
      "outputs": [
        {
          "name": "stdout",
          "output_type": "stream",
          "text": [
            "Bot: Hello! How can I assist you today?\n",
            "Bot: I'm sorry, I didn't understand what you were asking. Could you please try again?\n",
            "User: Which options are available \n",
            "Bot: Our services include internet, TV, and phone. Which one would you like to know more about?\n"
          ]
        }
      ],
      "source": [
        "# Load the spaCy model for English language\n",
        "nlp = spacy.load('en_core_web_sm')\n",
        "\n",
        "# Define a dictionary to store the responses\n",
        "responses = {\n",
        "    'greeting': ['Hello! How can I assist you today?', 'Hi there! How may I help you?'],\n",
        "    'farewell': ['Goodbye!', 'See you later!', 'Thanks for contacting us!'],\n",
        "    'options': ['Our services include internet, TV, and phone. Which one would you like to know more about?'],\n",
        "    'internet': ['Our internet packages start at $50 per month. Do you need more information about our packages?', \n",
        "                 'Our internet speed ranges from 25Mbps to 1Gbps. Would you like to know more about our plans?'],\n",
        "    'tv': ['We offer various TV packages, including basic, premium, and sports. Which one would you like to know more about?', \n",
        "           'Our TV channels include local, national, and international options. Would you like to know more about our packages?'],\n",
        "    'phone': ['Our phone plans start at $30 per month, including unlimited local calls. Do you need more information about our plans?', \n",
        "              'Our phone plans offer unlimited calls and texts to any number in the US. Would you like to know more about our packages?']\n",
        "}\n",
        "\n",
        "# Define a function to generate a response to user input\n",
        "def get_response(user_input):\n",
        "    # Convert the user input to a spaCy document\n",
        "    doc = nlp(user_input.lower())\n",
        "    \n",
        "    # Check if the user input contains a greeting keyword\n",
        "    if any(token.text in ['hello', 'hi', 'hey'] for token in doc):\n",
        "        return random.choice(responses['greeting'])\n",
        "    \n",
        "    # Check if the user input contains a farewell keyword\n",
        "    elif any(token.text in ['goodbye', 'bye', 'see you'] for token in doc):\n",
        "        return random.choice(responses['farewell'])\n",
        "    \n",
        "    # Check if the user input contains a keyword related to available options\n",
        "    elif any(token.text in ['services', 'options', 'available', 'plans'] for token in doc):\n",
        "        return random.choice(responses['options'])\n",
        "    \n",
        "    # Check if the user input contains a keyword related to internet\n",
        "    elif any(token.text in ['internet', 'wifi', 'broadband'] for token in doc):\n",
        "        return random.choice(responses['internet'])\n",
        "    \n",
        "    # Check if the user input contains a keyword related to TV\n",
        "    elif any(token.text in ['tv', 'television', 'channels'] for token in doc):\n",
        "        return random.choice(responses['tv'])\n",
        "    \n",
        "    # Check if the user input contains a keyword related to phone\n",
        "    elif any(token.text in ['phone', 'calls', 'texts'] for token in doc):\n",
        "        return random.choice(responses['phone'])\n",
        "    \n",
        "    # If none of the above conditions are met, return a default response\n",
        "    else:\n",
        "        return \"I'm sorry, I didn't understand what you were asking. Could you please try again?\"\n",
        "\n",
        "# Run the chatbot in a loop to take user input and generate responses\n",
        "while True:\n",
        "    # Take user input\n",
        "    user_input = input(\"User: \")\n",
        "    \n",
        "    # Generate response\n",
        "    response = get_response(user_input)\n",
        "    \n",
        "    # Print response\n",
        "    print(\"Bot: \" + response)"
      ]
    }
  ],
  "metadata": {
    "colab": {
      "provenance": []
    },
    "kernelspec": {
      "display_name": "Python 3",
      "language": "python",
      "name": "python3"
    },
    "language_info": {
      "name": "python",
      "version": "3.11.0 (main, Oct 25 2022, 13:57:33) [Clang 14.0.0 (clang-1400.0.29.202)]"
    },
    "vscode": {
      "interpreter": {
        "hash": "5c7b89af1651d0b8571dde13640ecdccf7d5a6204171d6ab33e7c296e100e08a"
      }
    }
  },
  "nbformat": 4,
  "nbformat_minor": 0
}
